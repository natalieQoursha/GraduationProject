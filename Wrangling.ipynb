{
 "cells": [
  {
   "cell_type": "code",
   "execution_count": null,
   "id": "6e666611",
   "metadata": {},
   "outputs": [],
   "source": [
    "apikey='H9iod5aNrd3jK2jF2XdK9ahATJMKg5khSVmnmk4m2JkbSN96P0qPj2Yhru90zPHe'\n",
    "secret='L7DoVVoLGwCojEtHnirsPifL55TY0BVqhdtIuaTFhFLIyYhjkpvihMrSwunp5kF8'"
   ]
  },
  {
   "cell_type": "code",
   "execution_count": null,
   "id": "a07eee03",
   "metadata": {
    "scrolled": true
   },
   "outputs": [],
   "source": [
    "!pip install python-binance pandas mplfinance"
   ]
  },
  {
   "cell_type": "code",
   "execution_count": null,
   "id": "c1ec0d67",
   "metadata": {},
   "outputs": [],
   "source": [
    "from binance import Client, ThreadedWebsocketManager, ThreadedDepthCacheManager\n",
    "import pandas as pd\n",
    "import numpy as np     \n",
    "import datetime "
   ]
  },
  {
   "cell_type": "code",
   "execution_count": null,
   "id": "8f7b496d",
   "metadata": {},
   "outputs": [],
   "source": [
    "client = Client(apikey, secret)"
   ]
  },
  {
   "cell_type": "code",
   "execution_count": null,
   "id": "e1d99bb0",
   "metadata": {},
   "outputs": [],
   "source": [
    "btc = client.get_historical_klines('BTCUSDT', Client.KLINE_INTERVAL_1DAY, '5 APR, 2014')"
   ]
  },
  {
   "cell_type": "code",
   "execution_count": null,
   "id": "a24dfcfc",
   "metadata": {},
   "outputs": [],
   "source": [
    "print(btc)"
   ]
  },
  {
   "cell_type": "code",
   "execution_count": null,
   "id": "4fb3f341",
   "metadata": {},
   "outputs": [],
   "source": [
    "btc_df = pd.DataFrame(btc)"
   ]
  },
  {
   "cell_type": "code",
   "execution_count": null,
   "id": "47d1d2ab",
   "metadata": {},
   "outputs": [],
   "source": [
    "btc_df.head()"
   ]
  },
  {
   "cell_type": "code",
   "execution_count": null,
   "id": "c421d92e",
   "metadata": {},
   "outputs": [],
   "source": [
    "btc_df.info()"
   ]
  },
  {
   "cell_type": "code",
   "execution_count": null,
   "id": "1ba15908",
   "metadata": {},
   "outputs": [],
   "source": [
    "#  [\n",
    "#   [\n",
    "#     1499040000000,      // Open time\n",
    "#     \"0.01634790\",       // Open\n",
    "#     \"0.80000000\",       // High\n",
    "#     \"0.01575800\",       // Low\n",
    "#     \"0.01577100\",       // Close\n",
    "#     \"148976.11427815\",  // Volume\n",
    "#     1499644799999,      // Close time\n",
    "#     \"2434.19055334\",    // Quote asset volume\n",
    "#     308,                // Number of trades\n",
    "#     \"1756.87402397\",    // Taker buy base asset volume\n",
    "#     \"28.46694368\",      // Taker buy quote asset volume\n",
    "#     \"17928899.62484339\" // Ignore.\n",
    "#   ]\n",
    "# ]\n"
   ]
  },
  {
   "cell_type": "code",
   "execution_count": null,
   "id": "bc68c191",
   "metadata": {},
   "outputs": [],
   "source": [
    "btc_df.columns = ['openTime', 'open', 'high', 'low', 'close', 'volume', 'closeTime', 'quoteAssetVolume', \n",
    "                    'numberofTrades', 'TBBaseVolume', 'TBQuoteVolume', 'Ignore']"
   ]
  },
  {
   "cell_type": "code",
   "execution_count": null,
   "id": "8491ad9d",
   "metadata": {},
   "outputs": [],
   "source": [
    "btc_df.tail()"
   ]
  },
  {
   "cell_type": "code",
   "execution_count": null,
   "id": "6069a278",
   "metadata": {},
   "outputs": [],
   "source": [
    "btc_df.shape"
   ]
  },
  {
   "cell_type": "code",
   "execution_count": null,
   "id": "6e5332b2",
   "metadata": {},
   "outputs": [],
   "source": [
    "btc_df.dtypes"
   ]
  },
  {
   "cell_type": "code",
   "execution_count": null,
   "id": "e6b11e63",
   "metadata": {},
   "outputs": [],
   "source": [
    "btc_hist_range=np.array(btc_df)\n",
    "range_times = btc_hist_range[:,0]\n",
    "start = int(range_times[1])\n",
    "end = int(range_times[-1])\n",
    "print(start, end)"
   ]
  },
  {
   "cell_type": "code",
   "execution_count": null,
   "id": "2e2308e0",
   "metadata": {},
   "outputs": [],
   "source": [
    "print(\"start:\", datetime.datetime.fromtimestamp(start/1000.0))\n",
    "print(\"end:\", datetime.datetime.fromtimestamp(end/1000.0))"
   ]
  },
  {
   "cell_type": "code",
   "execution_count": null,
   "id": "fd38c7be",
   "metadata": {},
   "outputs": [],
   "source": [
    "type(btc_df)"
   ]
  },
  {
   "cell_type": "code",
   "execution_count": null,
   "id": "1cfb2b3f",
   "metadata": {},
   "outputs": [],
   "source": [
    "btc_df['closeTime'] = pd.to_datetime(btc_df['closeTime'], unit='ms')\n",
    "btc_df['closeTime'] = pd.to_datetime(btc_df['closeTime']).dt.date #Only use it in a day interval not an hour "
   ]
  },
  {
   "cell_type": "code",
   "execution_count": null,
   "id": "5d5a4d07",
   "metadata": {},
   "outputs": [],
   "source": [
    "btc_df['openTime'] = pd.to_datetime(btc_df['openTime'], unit='ms')\n",
    "btc_df['openTime'] = pd.to_datetime(btc_df['openTime']).dt.date #Only use it in a day interval not an hour "
   ]
  },
  {
   "cell_type": "code",
   "execution_count": null,
   "id": "ca480f3c",
   "metadata": {},
   "outputs": [],
   "source": [
    "btc_df"
   ]
  },
  {
   "cell_type": "code",
   "execution_count": null,
   "id": "830426f7",
   "metadata": {},
   "outputs": [],
   "source": [
    "btc_df.info()"
   ]
  },
  {
   "cell_type": "code",
   "execution_count": null,
   "id": "43b82d17",
   "metadata": {},
   "outputs": [],
   "source": [
    "numeric_columns = ['open', 'high', 'low', 'close', 'volume','quoteAssetVolume','numberofTrades','TBBaseVolume','TBQuoteVolume']"
   ]
  },
  {
   "cell_type": "code",
   "execution_count": null,
   "id": "243a96c4",
   "metadata": {},
   "outputs": [],
   "source": [
    "btc_df[numeric_columns] = btc_df[numeric_columns].apply(pd.to_numeric, axis=1)"
   ]
  },
  {
   "cell_type": "code",
   "execution_count": null,
   "id": "f447c567",
   "metadata": {},
   "outputs": [],
   "source": [
    "btc_df.drop('Ignore',axis=1,inplace=True)"
   ]
  },
  {
   "cell_type": "code",
   "execution_count": null,
   "id": "3090a1e2",
   "metadata": {},
   "outputs": [],
   "source": [
    "btc_df.set_index(['closeTime'], inplace=True)"
   ]
  },
  {
   "cell_type": "code",
   "execution_count": null,
   "id": "bbe078fb",
   "metadata": {},
   "outputs": [],
   "source": [
    "btc_df.index.names = ['Date']"
   ]
  },
  {
   "cell_type": "code",
   "execution_count": null,
   "id": "35e6246d",
   "metadata": {},
   "outputs": [],
   "source": [
    "btc_df.tail()"
   ]
  },
  {
   "cell_type": "code",
   "execution_count": null,
   "id": "5de028bf",
   "metadata": {},
   "outputs": [],
   "source": [
    "btc_df.dtypes"
   ]
  },
  {
   "cell_type": "code",
   "execution_count": null,
   "id": "0c8ef115",
   "metadata": {},
   "outputs": [],
   "source": [
    "btc_df.describe()"
   ]
  },
  {
   "cell_type": "code",
   "execution_count": null,
   "id": "5199538b",
   "metadata": {},
   "outputs": [],
   "source": [
    "btc_df.info()"
   ]
  },
  {
   "cell_type": "code",
   "execution_count": null,
   "id": "8078c9bc",
   "metadata": {},
   "outputs": [],
   "source": [
    "corr_matrix=btc_df.corr(numeric_only=True)\n",
    "corr_matrix['close'].sort_values(ascending=False)"
   ]
  },
  {
   "cell_type": "code",
   "execution_count": null,
   "id": "ab0c4bfa",
   "metadata": {},
   "outputs": [],
   "source": [
    "btc_df.drop(['quoteAssetVolume','TBQuoteVolume','numberofTrades','TBBaseVolume','openTime'],axis=1,inplace=True)"
   ]
  },
  {
   "cell_type": "code",
   "execution_count": null,
   "id": "e61503db",
   "metadata": {},
   "outputs": [],
   "source": [
    "btc_df.to_csv('btc_prediction_datawranglingStage.csv')"
   ]
  },
  {
   "cell_type": "code",
   "execution_count": null,
   "id": "5e4fa751",
   "metadata": {},
   "outputs": [],
   "source": [
    "btc_df.info()"
   ]
  },
  {
   "cell_type": "code",
   "execution_count": null,
   "id": "6c3bf836",
   "metadata": {},
   "outputs": [],
   "source": [
    "btc_df.head()"
   ]
  },
  {
   "cell_type": "code",
   "execution_count": null,
   "id": "0a43662b",
   "metadata": {},
   "outputs": [],
   "source": []
  }
 ],
 "metadata": {
  "kernelspec": {
   "display_name": "Python 3 (ipykernel)",
   "language": "python",
   "name": "python3"
  },
  "language_info": {
   "codemirror_mode": {
    "name": "ipython",
    "version": 3
   },
   "file_extension": ".py",
   "mimetype": "text/x-python",
   "name": "python",
   "nbconvert_exporter": "python",
   "pygments_lexer": "ipython3",
   "version": "3.10.9"
  }
 },
 "nbformat": 4,
 "nbformat_minor": 5
}
