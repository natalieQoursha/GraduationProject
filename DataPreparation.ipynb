{
 "cells": [
  {
   "cell_type": "markdown",
   "id": "5902bc37",
   "metadata": {},
   "source": [
    "## Binance Data Preparation"
   ]
  },
  {
   "cell_type": "code",
   "execution_count": null,
   "id": "6782cb2f",
   "metadata": {},
   "outputs": [],
   "source": [
    "import requests\n",
    "import pandas as pd\n",
    "from datetime import datetime\n",
    "import configparser\n",
    "from binance import Client, ThreadedWebsocketManager, ThreadedDepthCacheManager\n",
    "import pandas as pd\n",
    "import numpy as np"
   ]
  },
  {
   "cell_type": "code",
   "execution_count": null,
   "id": "a3320fc0",
   "metadata": {},
   "outputs": [],
   "source": [
    "config_data=configparser.ConfigParser()\n",
    "config_data.read(\"config.ini\")\n",
    "keys=config_data['keys']\n",
    "client=Client(keys['apiKey'],keys['secretKey'])\n",
    "print('logged in')"
   ]
  },
  {
   "cell_type": "code",
   "execution_count": null,
   "id": "841b4cbe",
   "metadata": {},
   "outputs": [],
   "source": [
    "tickers=client.get_all_tickers()\n",
    "tickers"
   ]
  },
  {
   "cell_type": "code",
   "execution_count": null,
   "id": "6622dee3",
   "metadata": {},
   "outputs": [],
   "source": [
    "ticker_df=pd.DataFrame(tickers)\n",
    "ticker_df"
   ]
  },
  {
   "cell_type": "code",
   "execution_count": null,
   "id": "cc51787e",
   "metadata": {},
   "outputs": [],
   "source": [
    "ticker_df.set_index('symbol',inplace=True)"
   ]
  },
  {
   "cell_type": "code",
   "execution_count": null,
   "id": "91aafdd6",
   "metadata": {},
   "outputs": [],
   "source": [
    "ticker_df"
   ]
  },
  {
   "cell_type": "code",
   "execution_count": null,
   "id": "54c303d5",
   "metadata": {},
   "outputs": [],
   "source": [
    "depth=client.get_order_book(symbol='ETHBTC')\n",
    "depth\n",
    "depth_df=pd.DataFrame(depth['asks'])\n",
    "depth_df.columns=['Price','Volume']\n",
    "depth_df.head()"
   ]
  },
  {
   "cell_type": "code",
   "execution_count": null,
   "id": "6da6d27b",
   "metadata": {},
   "outputs": [],
   "source": [
    "#  [\n",
    "#   [\n",
    "#     1499040000000,      // Open time\n",
    "#     \"0.01634790\",       // Open\n",
    "#     \"0.80000000\",       // High\n",
    "#     \"0.01575800\",       // Low\n",
    "#     \"0.01577100\",       // Close\n",
    "#     \"148976.11427815\",  // Volume\n",
    "#     1499644799999,      // Close time\n",
    "#     \"2434.19055334\",    // Quote asset volume\n",
    "#     308,                // Number of trades\n",
    "#     \"1756.87402397\",    // Taker buy base asset volume\n",
    "#     \"28.46694368\",      // Taker buy quote asset volume\n",
    "#     \"17928899.62484339\" // Ignore.\n",
    "#   ]\n",
    "# ]\n",
    "client.get_historical_klines??"
   ]
  },
  {
   "cell_type": "code",
   "execution_count": null,
   "id": "16c73ce4",
   "metadata": {},
   "outputs": [],
   "source": [
    "historical = client.get_historical_klines('BTCUSDT',Client.KLINE_INTERVAL_1DAY,'17 Aug 2017')# parameters:(symbol, interval, date_from)\n",
    "historical"
   ]
  },
  {
   "cell_type": "markdown",
   "id": "25649972",
   "metadata": {},
   "source": [
    "btcusdt is the price of bitcion relative to the US dollar; 1 usdt ~ 1 dollar; usdt was chosen because its price is tied to the dollar and does not fluctuate like other cryptocurrencies"
   ]
  },
  {
   "cell_type": "code",
   "execution_count": null,
   "id": "c3b64f19",
   "metadata": {},
   "outputs": [],
   "source": [
    "hist_df=pd.DataFrame(historical)\n",
    "hist_df.head()"
   ]
  },
  {
   "cell_type": "code",
   "execution_count": null,
   "id": "cf586b14",
   "metadata": {},
   "outputs": [],
   "source": [
    "hist_df.columns=['Open Time','Open','High','Low','Close','Volume','Close Time','Quote Asset Volume','Number of Trades','TB Base Volume','TB Quote Volume','Ignore']\n",
    "hist_df.head()"
   ]
  },
  {
   "cell_type": "code",
   "execution_count": null,
   "id": "885ad9d6",
   "metadata": {},
   "outputs": [],
   "source": [
    "hist_df.shape"
   ]
  },
  {
   "cell_type": "code",
   "execution_count": null,
   "id": "5ec17a1d",
   "metadata": {},
   "outputs": [],
   "source": [
    "hist_df.dtypes #int64 + objects (which are strings) >> preprocessing"
   ]
  },
  {
   "cell_type": "code",
   "execution_count": null,
   "id": "f8a69dba",
   "metadata": {},
   "outputs": [],
   "source": [
    "#convert from Unix timestamps to date\n",
    "hist_df['Open Time']= pd.to_datetime(hist_df['Open Time']/1000, unit='s')\n",
    "hist_df['Close Time']= pd.to_datetime(hist_df['Close Time']/1000, unit='s')\n",
    "hist_df.dtypes"
   ]
  },
  {
   "cell_type": "code",
   "execution_count": null,
   "id": "09717a64",
   "metadata": {},
   "outputs": [],
   "source": [
    "hist_df.head() #notice open time and close time "
   ]
  },
  {
   "cell_type": "markdown",
   "id": "7609ed41",
   "metadata": {},
   "source": [
    "Binance was launched in July 2017 and therefore the historical data for trading pairs listed on Binance is available from the time the exchange began operations."
   ]
  },
  {
   "cell_type": "code",
   "execution_count": null,
   "id": "d3bbaace",
   "metadata": {},
   "outputs": [],
   "source": [
    "numeric_columns=['Open','High','Low','Close','Volume','Quote Asset Volume','TB Base Volume','TB Quote Volume']\n",
    "hist_df[numeric_columns]=hist_df[numeric_columns].apply(pd.to_numeric,axis=1)\n",
    "hist_df.head()"
   ]
  },
  {
   "cell_type": "code",
   "execution_count": null,
   "id": "9ccda8ca",
   "metadata": {},
   "outputs": [],
   "source": [
    "hist_df.dtypes"
   ]
  },
  {
   "cell_type": "code",
   "execution_count": null,
   "id": "8d9f6755",
   "metadata": {},
   "outputs": [],
   "source": [
    "hist_df.describe()"
   ]
  },
  {
   "cell_type": "code",
   "execution_count": null,
   "id": "f2eed76c",
   "metadata": {},
   "outputs": [],
   "source": [
    "hist_df.describe(include='object')"
   ]
  },
  {
   "cell_type": "code",
   "execution_count": null,
   "id": "87a12f65",
   "metadata": {},
   "outputs": [],
   "source": [
    "hist_df.describe(include='datetime')"
   ]
  },
  {
   "cell_type": "code",
   "execution_count": null,
   "id": "ddc11aad",
   "metadata": {},
   "outputs": [],
   "source": [
    "hist_df.info()"
   ]
  },
  {
   "cell_type": "code",
   "execution_count": null,
   "id": "0d236b85",
   "metadata": {},
   "outputs": [],
   "source": [
    "hist_df.set_index('Open Time', inplace=True)"
   ]
  },
  {
   "cell_type": "code",
   "execution_count": null,
   "id": "fd3805fe",
   "metadata": {},
   "outputs": [],
   "source": [
    "hist_df['Weighted Avg Price'] = hist_df['Quote Asset Volume'] / hist_df['Volume'] #SIMILAR METRIC TO BPI"
   ]
  },
  {
   "cell_type": "code",
   "execution_count": null,
   "id": "83363b1a",
   "metadata": {},
   "outputs": [],
   "source": [
    "hist_df.head()"
   ]
  },
  {
   "cell_type": "code",
   "execution_count": null,
   "id": "6612a6d6",
   "metadata": {},
   "outputs": [],
   "source": [
    "import seaborn as sns\n",
    "import matplotlib.pyplot as plt"
   ]
  },
  {
   "cell_type": "code",
   "execution_count": null,
   "id": "7cb9f6f1",
   "metadata": {},
   "outputs": [],
   "source": [
    "correlations = hist_df.corr()\n",
    "plt.figure(figsize=(12, 8))\n",
    "sns.heatmap(correlations, annot=True, cmap=\"coolwarm\", vmin=-1, vmax=1, linewidths=.5)\n",
    "plt.title(\"Correlation Matrix\")\n",
    "plt.show()"
   ]
  },
  {
   "cell_type": "code",
   "execution_count": null,
   "id": "413bbac1",
   "metadata": {},
   "outputs": [],
   "source": [
    "data_csv=hist_df.drop(['Quote Asset Volume','TB Quote Volume','Number of Trades','TB Base Volume','Close Time','Ignore'],axis=1)\n",
    "data_csv.to_csv('btc_prediction_data.csv')\n",
    "data_csv"
   ]
  },
  {
   "cell_type": "markdown",
   "id": "9cfd7206",
   "metadata": {},
   "source": [
    "## Blockchain Data Preparation from Blockchain.com"
   ]
  },
  {
   "cell_type": "code",
   "execution_count": null,
   "id": "0737e9dc",
   "metadata": {},
   "outputs": [],
   "source": [
    "\n",
    "features = [\n",
    "    \"avg-block-size\",\n",
    "    \"blockchain-size\",\n",
    "    \"blocks-size\",\n",
    "    \"cost-per-transaction\",\n",
    "    \"cost-per-transaction-percent\",\n",
    "    \"difficulty\",\n",
    "    \"estimated-transaction-volume\",\n",
    "    \"estimated-transaction-volume-usd\",\n",
    "    \"hash-rate\",\n",
    "    \"n-transactions-total\",\n",
    "    \"market-price\",\n",
    "    \"n-unique-addresses\",\n",
    "    \"n-transactions-per-block\",\n",
    "    \"n-transactions\",\n",
    "    \"miners-revenue\",\n",
    "    \"transaction-fees\",\n",
    "    \"transaction-fees-usd\",\n",
    "    \"n-transactions-excluding-popular\",\n",
    "    \"n-transactions-excluding-chains-longer-than-100\",\n",
    "    \"output-volume\",\n",
    "    \"total-bitcoins\",\n",
    "    \"trade-volume\"\n",
    "]"
   ]
  },
  {
   "cell_type": "code",
   "execution_count": null,
   "id": "b9d79f9c",
   "metadata": {},
   "outputs": [],
   "source": [
    "def fetch_data(feature):\n",
    "    url = f\"https://api.blockchain.info/charts/market-price?timespan=6years&format=json\"\n",
    "    response = requests.get(url)\n",
    "    \n",
    "    if response.status_code == 200:\n",
    "        data = response.json()\n",
    "        return data[\"values\"]\n",
    "    else:\n",
    "        print(f\"Error fetching {feature}: {response.status_code}\")\n",
    "        return []"
   ]
  },
  {
   "cell_type": "code",
   "execution_count": null,
   "id": "9dd6f8db",
   "metadata": {},
   "outputs": [],
   "source": [
    "dataframes = []\n",
    "for feature in features:\n",
    "    data = fetch_data(feature)\n",
    "    \n",
    "    if data:\n",
    "        df = pd.DataFrame(data)\n",
    "        df[\"feature\"] = feature\n",
    "        dataframes.append(df)\n",
    "\n",
    "blockchainData_df = pd.concat(dataframes, ignore_index=True)\n",
    "blockchainData_df.rename(columns={\"x\": \"timestamp\", \"y\": \"value\"}, inplace=True)\n",
    "\n",
    "print(blockchainData_df)"
   ]
  },
  {
   "cell_type": "code",
   "execution_count": null,
   "id": "ebbf559c",
   "metadata": {},
   "outputs": [],
   "source": [
    "blockchainData_df[\"timestamp\"] = pd.to_datetime(blockchainData_df[\"timestamp\"], unit=\"s\")\n",
    "blockchainData_df"
   ]
  },
  {
   "cell_type": "code",
   "execution_count": null,
   "id": "bfb74607",
   "metadata": {},
   "outputs": [],
   "source": [
    "blockchainData_df.info()"
   ]
  },
  {
   "cell_type": "code",
   "execution_count": null,
   "id": "2587d0af",
   "metadata": {},
   "outputs": [],
   "source": [
    "blockchainData_df.feature.unique()"
   ]
  },
  {
   "cell_type": "code",
   "execution_count": null,
   "id": "3cc4de6f",
   "metadata": {},
   "outputs": [],
   "source": [
    "blockchainData_df.set_index('timestamp')"
   ]
  },
  {
   "cell_type": "code",
   "execution_count": null,
   "id": "921a7220",
   "metadata": {},
   "outputs": [],
   "source": [
    "pivoted_df = blockchainData_df.pivot_table(index=\"timestamp\", columns=\"feature\", values=\"value\")"
   ]
  },
  {
   "cell_type": "code",
   "execution_count": null,
   "id": "36ebe49a",
   "metadata": {},
   "outputs": [],
   "source": [
    "pivoted_df"
   ]
  },
  {
   "cell_type": "code",
   "execution_count": null,
   "id": "aa3a5cbb",
   "metadata": {},
   "outputs": [],
   "source": [
    "pivoted_df.info()"
   ]
  },
  {
   "cell_type": "code",
   "execution_count": null,
   "id": "b9331751",
   "metadata": {},
   "outputs": [],
   "source": [
    "pivoted_df.describe()"
   ]
  },
  {
   "cell_type": "code",
   "execution_count": null,
   "id": "d4cc21f7",
   "metadata": {},
   "outputs": [],
   "source": [
    "num_years = (blockchainData_df[\"timestamp\"].max() - blockchainData_df[\"timestamp\"].min()).total_seconds() / (365.25 * 24 * 60 * 60)\n",
    "num_years "
   ]
  },
  {
   "cell_type": "markdown",
   "id": "102c0df2",
   "metadata": {},
   "source": [
    "## Merging the Data"
   ]
  },
  {
   "cell_type": "code",
   "execution_count": null,
   "id": "f91dcdfa",
   "metadata": {},
   "outputs": [],
   "source": [
    "mergedData_df = pd.merge(hist_df, pivoted_df, left_index=True, right_index=True)\n",
    "mergedData_df                     "
   ]
  },
  {
   "cell_type": "code",
   "execution_count": null,
   "id": "cbd5bf77",
   "metadata": {},
   "outputs": [],
   "source": [
    "mergedData_df.info()"
   ]
  },
  {
   "cell_type": "code",
   "execution_count": null,
   "id": "3f37f0d4",
   "metadata": {},
   "outputs": [],
   "source": [
    "correlations = mergedData_df.corr()\n",
    "plt.figure(figsize=(12, 8))\n",
    "sns.heatmap(correlations, annot=True, cmap=\"coolwarm\", vmin=-1, vmax=1, linewidths=.5)\n",
    "plt.title(\"Correlation Matrix\")\n",
    "plt.show()"
   ]
  },
  {
   "cell_type": "code",
   "execution_count": null,
   "id": "c9259796",
   "metadata": {},
   "outputs": [],
   "source": [
    "correlations['market-price']"
   ]
  },
  {
   "cell_type": "code",
   "execution_count": null,
   "id": "09464559",
   "metadata": {},
   "outputs": [],
   "source": [
    "mergedData_df.columns"
   ]
  },
  {
   "cell_type": "code",
   "execution_count": null,
   "id": "e5be55aa",
   "metadata": {},
   "outputs": [],
   "source": [
    "mergedData_df.drop(columns=['Quote Asset Volume', 'Number of Trades', 'TB Base Volume',\n",
    "       'TB Quote Volume', 'Ignore','Close Time'],inplace=True)"
   ]
  },
  {
   "cell_type": "markdown",
   "id": "5a5e5b8b",
   "metadata": {},
   "source": [
    "## technical indicators "
   ]
  },
  {
   "cell_type": "code",
   "execution_count": null,
   "id": "9de01620",
   "metadata": {},
   "outputs": [],
   "source": [
    "#calculate the EMA\n",
    "mergedData_df['EMA'] = mergedData_df['Close'].ewm(span=12).mean()\n",
    "mergedData_df.head()"
   ]
  },
  {
   "cell_type": "code",
   "execution_count": null,
   "id": "a09db471",
   "metadata": {},
   "outputs": [],
   "source": [
    "#calculate the MACD\n",
    "temp_df=pd.DataFrame()\n",
    "temp_df['EMA_12'] = mergedData_df['Close'].ewm(span=12).mean()\n",
    "temp_df['EMA_26'] = mergedData_df['Close'].ewm(span=26).mean()\n",
    "mergedData_df['MACD'] = temp_df['EMA_12'] - temp_df['EMA_26']\n",
    "mergedData_df"
   ]
  },
  {
   "cell_type": "code",
   "execution_count": null,
   "id": "e8a7711b",
   "metadata": {},
   "outputs": [],
   "source": [
    "#Calculate the RSI\n",
    "price_changes = mergedData_df['Close'].diff()\n",
    "positive_changes = price_changes.where(price_changes > 0, 0)\n",
    "negative_changes = -price_changes.where(price_changes < 0, 0)\n",
    "temp_df['avg_positive_changes'] = positive_changes.rolling(window=14).mean()\n",
    "temp_df['avg_negative_changes'] = negative_changes.rolling(window=14).mean()\n",
    "temp_df['RS'] = temp_df['avg_positive_changes'] / temp_df['avg_negative_changes']#NaN \n",
    "mergedData_df['RSI'] = 100 - (100 / (1 + temp_df['RS']))\n",
    "mergedData_df.info() #null values "
   ]
  },
  {
   "cell_type": "code",
   "execution_count": null,
   "id": "d4050984",
   "metadata": {},
   "outputs": [],
   "source": [
    "price_changes.where(price_changes>0,0).rolling(window=14).mean()"
   ]
  },
  {
   "cell_type": "code",
   "execution_count": null,
   "id": "7a786afd",
   "metadata": {},
   "outputs": [],
   "source": [
    "N = 10  # You can set the desired N value for the momentum calculation\n",
    "mergedData_df['MOM'] = mergedData_df['Close'] - mergedData_df['Close'].shift(N)\n",
    "mergedData_df.info() #new null values "
   ]
  },
  {
   "cell_type": "code",
   "execution_count": null,
   "id": "b99abf16",
   "metadata": {},
   "outputs": [],
   "source": [
    "null_indices = mergedData_df[mergedData_df.isnull().any(axis=1)].reset_index()[\"index\"].tolist()\n",
    "null_indices #13 rows, rolling window is of size 14 "
   ]
  },
  {
   "cell_type": "code",
   "execution_count": null,
   "id": "54871942",
   "metadata": {},
   "outputs": [],
   "source": [
    "N = 14  # You can set the desired N value for the PROC calculation\n",
    "mergedData_df['PROC'] = (mergedData_df['Close'] - mergedData_df['Close'].shift(N)) / mergedData_df['Close'].shift(N) * 100\n",
    "mergedData_df.info()"
   ]
  },
  {
   "cell_type": "code",
   "execution_count": null,
   "id": "8eaf1460",
   "metadata": {},
   "outputs": [],
   "source": [
    "N = 14  # You can set the desired N value for the %K calculation\n",
    "low_N = mergedData_df['Low'].rolling(window=N).min()\n",
    "high_N = mergedData_df['High'].rolling(window=N).max()\n",
    "mergedData_df['%K'] = (mergedData_df['Close'] - low_N) / (high_N - low_N) * 100\n",
    "mergedData_df.info()"
   ]
  },
  {
   "cell_type": "code",
   "execution_count": null,
   "id": "2ae4fa23",
   "metadata": {},
   "outputs": [],
   "source": [
    "sub_df=mergedData_df[['EMA','MACD','RSI','MOM','PROC','%K','market-price']]\n",
    "correlations = sub_df.corr()\n",
    "plt.figure(figsize=(12, 8))\n",
    "sns.heatmap(correlations, annot=True, cmap=\"coolwarm\", vmin=-1, vmax=1, linewidths=.5)\n",
    "plt.title(\"Correlation Matrix\")\n",
    "plt.show()"
   ]
  },
  {
   "cell_type": "code",
   "execution_count": null,
   "id": "06e86453",
   "metadata": {},
   "outputs": [],
   "source": [
    "csv_file=mergedData_df.to_csv('data_with_tecInd.csv')\n",
    "csv_file"
   ]
  },
  {
   "cell_type": "code",
   "execution_count": null,
   "id": "d20572ce",
   "metadata": {},
   "outputs": [],
   "source": [
    "mergedData_df.dropna(inplace=True)"
   ]
  },
  {
   "cell_type": "code",
   "execution_count": null,
   "id": "9fd48d2d",
   "metadata": {},
   "outputs": [],
   "source": [
    "csv_file=mergedData_df.to_csv('data_with_tecInd.csv')\n",
    "csv_file"
   ]
  },
  {
   "cell_type": "code",
   "execution_count": null,
   "id": "cbb94b82",
   "metadata": {},
   "outputs": [],
   "source": [
    "mergedData_df"
   ]
  },
  {
   "cell_type": "code",
   "execution_count": null,
   "id": "af275e47",
   "metadata": {},
   "outputs": [],
   "source": []
  },
  {
   "cell_type": "code",
   "execution_count": null,
   "id": "949e9c6a",
   "metadata": {},
   "outputs": [],
   "source": []
  },
  {
   "cell_type": "code",
   "execution_count": null,
   "id": "84d3167e",
   "metadata": {},
   "outputs": [],
   "source": []
  },
  {
   "cell_type": "code",
   "execution_count": null,
   "id": "9a10e778",
   "metadata": {},
   "outputs": [],
   "source": []
  },
  {
   "cell_type": "code",
   "execution_count": null,
   "id": "fb3bf700",
   "metadata": {},
   "outputs": [],
   "source": []
  },
  {
   "cell_type": "code",
   "execution_count": null,
   "id": "c6ba1c7c",
   "metadata": {},
   "outputs": [],
   "source": []
  },
  {
   "cell_type": "code",
   "execution_count": null,
   "id": "ca51234d",
   "metadata": {},
   "outputs": [],
   "source": []
  },
  {
   "cell_type": "code",
   "execution_count": null,
   "id": "6f3cfc0e",
   "metadata": {},
   "outputs": [],
   "source": []
  },
  {
   "cell_type": "code",
   "execution_count": null,
   "id": "ea9d65c7",
   "metadata": {},
   "outputs": [],
   "source": []
  },
  {
   "cell_type": "code",
   "execution_count": null,
   "id": "32261f59",
   "metadata": {},
   "outputs": [],
   "source": []
  }
 ],
 "metadata": {
  "kernelspec": {
   "display_name": "Python 3 (ipykernel)",
   "language": "python",
   "name": "python3"
  },
  "language_info": {
   "codemirror_mode": {
    "name": "ipython",
    "version": 3
   },
   "file_extension": ".py",
   "mimetype": "text/x-python",
   "name": "python",
   "nbconvert_exporter": "python",
   "pygments_lexer": "ipython3",
   "version": "3.10.3"
  }
 },
 "nbformat": 4,
 "nbformat_minor": 5
}
