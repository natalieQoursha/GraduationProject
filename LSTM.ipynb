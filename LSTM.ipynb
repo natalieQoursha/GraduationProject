{
 "cells": [
  {
   "cell_type": "code",
   "execution_count": 1,
   "id": "3e6f8342",
   "metadata": {},
   "outputs": [
    {
     "name": "stderr",
     "output_type": "stream",
     "text": [
      "2023-04-06 16:39:25.450390: I tensorflow/core/platform/cpu_feature_guard.cc:193] This TensorFlow binary is optimized with oneAPI Deep Neural Network Library (oneDNN) to use the following CPU instructions in performance-critical operations:  SSE4.1 SSE4.2\n",
      "To enable them in other operations, rebuild TensorFlow with the appropriate compiler flags.\n"
     ]
    }
   ],
   "source": [
    "import pandas as pd\n",
    "import seaborn as sns\n",
    "import numpy as np\n",
    "from sklearn.preprocessing import StandardScaler \n",
    "from sklearn.model_selection import train_test_split \n",
    "from sklearn.preprocessing import MinMaxScaler\n",
    "from tensorflow.keras.models import Sequential\n",
    "from tensorflow.keras.layers import LSTM, Dense"
   ]
  },
  {
   "cell_type": "code",
   "execution_count": 2,
   "id": "7c666470",
   "metadata": {},
   "outputs": [],
   "source": [
    "btc = pd.read_csv('btc_prediction_datawranglingStage.csv')"
   ]
  },
  {
   "cell_type": "code",
   "execution_count": 3,
   "id": "03c7bd1b",
   "metadata": {
    "scrolled": true
   },
   "outputs": [
    {
     "name": "stdout",
     "output_type": "stream",
     "text": [
      "<class 'pandas.core.frame.DataFrame'>\n",
      "RangeIndex: 2059 entries, 0 to 2058\n",
      "Data columns (total 6 columns):\n",
      " #   Column  Non-Null Count  Dtype  \n",
      "---  ------  --------------  -----  \n",
      " 0   Date    2059 non-null   object \n",
      " 1   open    2059 non-null   float64\n",
      " 2   high    2059 non-null   float64\n",
      " 3   low     2059 non-null   float64\n",
      " 4   close   2059 non-null   float64\n",
      " 5   volume  2059 non-null   float64\n",
      "dtypes: float64(5), object(1)\n",
      "memory usage: 96.6+ KB\n"
     ]
    }
   ],
   "source": [
    "btc.info()"
   ]
  },
  {
   "cell_type": "code",
   "execution_count": 4,
   "id": "b2bda51f",
   "metadata": {},
   "outputs": [],
   "source": [
    "target = btc['close'].values"
   ]
  },
  {
   "cell_type": "code",
   "execution_count": 5,
   "id": "6eb9686f",
   "metadata": {},
   "outputs": [],
   "source": [
    "btc_features = btc.drop('Date', axis=1)"
   ]
  },
  {
   "cell_type": "code",
   "execution_count": 6,
   "id": "74f028e1",
   "metadata": {},
   "outputs": [],
   "source": [
    "scaler = MinMaxScaler(feature_range=(0, 1))\n",
    "btc_scaled = scaler.fit_transform(btc_features)"
   ]
  },
  {
   "cell_type": "code",
   "execution_count": 7,
   "id": "21a416ee",
   "metadata": {},
   "outputs": [
    {
     "name": "stdout",
     "output_type": "stream",
     "text": [
      "                open      high       low     close    volume\n",
      "Date                                                        \n",
      "2017-08-17  0.016685  0.018394  0.021824  0.017036  0.000746\n",
      "2017-08-18  0.017052  0.016661  0.017692  0.014290  0.001278\n",
      "2017-08-19  0.014305  0.013818  0.016292  0.014781  0.000201\n",
      "2017-08-20  0.014501  0.014220  0.019172  0.013946  0.000314\n",
      "2017-08-21  0.013695  0.012828  0.017267  0.012854  0.000610\n"
     ]
    }
   ],
   "source": [
    "btc_scaled_df = pd.DataFrame(btc_scaled, columns=btc_features.columns)\n",
    "btc_scaled_df['Date'] = btc['Date']\n",
    "btc_scaled_df.set_index('Date', inplace=True)\n",
    "print(btc_scaled_df.head())"
   ]
  },
  {
   "cell_type": "code",
   "execution_count": 8,
   "id": "08ca314a",
   "metadata": {},
   "outputs": [],
   "source": [
    "seq_len = 1\n",
    "train_size = int(len(btc_scaled_df) * 0.9)\n",
    "train_data = btc_scaled_df.iloc[:train_size]\n",
    "test_data = btc_scaled_df.iloc[train_size:]"
   ]
  },
  {
   "cell_type": "code",
   "execution_count": 9,
   "id": "e28d5761",
   "metadata": {},
   "outputs": [],
   "source": [
    "def create_sequences(data, seq_len):\n",
    "    if len(data) < seq_len:\n",
    "        raise ValueError(\"Length of data is less than sequence length\")\n",
    "    X = []\n",
    "    y = []\n",
    "    for i in range(seq_len, len(data)):\n",
    "        X.append(data.iloc[i-seq_len:i].values)\n",
    "        y.append(data.iloc[i].values)\n",
    "    X = np.array(X)\n",
    "    y = np.array(y)\n",
    "    return X, y"
   ]
  },
  {
   "cell_type": "code",
   "execution_count": 10,
   "id": "c90c8fd1",
   "metadata": {},
   "outputs": [],
   "source": [
    "input_cols = ['open', 'high', 'low', 'close',]\n",
    "X_train, y_train = create_sequences(train_data[input_cols], seq_len)\n",
    "X_test, y_test = create_sequences(test_data[input_cols], seq_len)"
   ]
  },
  {
   "cell_type": "code",
   "execution_count": 11,
   "id": "8b2f4023",
   "metadata": {},
   "outputs": [
    {
     "data": {
      "text/plain": [
       "array([[[0.0166849 , 0.01839357, 0.02182369, 0.01703628]],\n",
       "\n",
       "       [[0.01705172, 0.01666101, 0.01769203, 0.01428964]],\n",
       "\n",
       "       [[0.01430512, 0.01381835, 0.01629199, 0.01478096]],\n",
       "\n",
       "       ...,\n",
       "\n",
       "       [[0.25074727, 0.27875448, 0.25983197, 0.28243691]],\n",
       "\n",
       "       [[0.28247169, 0.28200415, 0.28852637, 0.28691693]],\n",
       "\n",
       "       [[0.28691061, 0.28275274, 0.29229372, 0.28969186]]])"
      ]
     },
     "execution_count": 11,
     "metadata": {},
     "output_type": "execute_result"
    }
   ],
   "source": [
    "X_train"
   ]
  },
  {
   "cell_type": "code",
   "execution_count": 12,
   "id": "538d4552",
   "metadata": {},
   "outputs": [
    {
     "data": {
      "text/plain": [
       "(1852, 1, 4)"
      ]
     },
     "execution_count": 12,
     "metadata": {},
     "output_type": "execute_result"
    }
   ],
   "source": [
    "X_train.shape"
   ]
  },
  {
   "cell_type": "code",
   "execution_count": 13,
   "id": "2fee9737",
   "metadata": {},
   "outputs": [
    {
     "data": {
      "text/plain": [
       "(1852, 4)"
      ]
     },
     "execution_count": 13,
     "metadata": {},
     "output_type": "execute_result"
    }
   ],
   "source": [
    "y_train.shape"
   ]
  },
  {
   "cell_type": "code",
   "execution_count": 14,
   "id": "16821470",
   "metadata": {},
   "outputs": [
    {
     "data": {
      "text/plain": [
       "array([[0.26400665, 0.26269112, 0.26497144, 0.26482025],\n",
       "       [0.26483898, 0.25947705, 0.26306908, 0.25666271],\n",
       "       [0.25667442, 0.25277869, 0.26027767, 0.2582391 ],\n",
       "       [0.25825079, 0.25732805, 0.26702899, 0.26306247],\n",
       "       [0.26305838, 0.25623651, 0.26052387, 0.25222202],\n",
       "       [0.25225353, 0.24967782, 0.24312693, 0.25410026],\n",
       "       [0.25411201, 0.24889301, 0.25068638, 0.24381035],\n",
       "       [0.24381153, 0.25378289, 0.241446  , 0.23738106],\n",
       "       [0.23739307, 0.24760809, 0.24507991, 0.25199586],\n",
       "       [0.25200765, 0.24684474, 0.2478404 , 0.25025938],\n",
       "       [0.25025036, 0.24404726, 0.25216054, 0.24451756],\n",
       "       [0.24455262, 0.24197905, 0.24938254, 0.24275932],\n",
       "       [0.24279844, 0.24409017, 0.25019509, 0.2492943 ],\n",
       "       [0.2492884 , 0.26032332, 0.25233371, 0.24698318],\n",
       "       [0.24697903, 0.25125716, 0.24689191, 0.25216979],\n",
       "       [0.25218157, 0.24905886, 0.25275465, 0.25494721],\n",
       "       [0.25494387, 0.25726719, 0.25768089, 0.25232196],\n",
       "       [0.25233374, 0.24660129, 0.25774492, 0.25058641],\n",
       "       [0.25061826, 0.24526098, 0.25397442, 0.2466361 ],\n",
       "       [0.24666258, 0.2501784 , 0.25459472, 0.25553116],\n",
       "       [0.25554289, 0.26167961, 0.26296814, 0.26654725],\n",
       "       [0.26655881, 0.26001506, 0.26674384, 0.26375632],\n",
       "       [0.26376792, 0.26139965, 0.26868374, 0.26068513],\n",
       "       [0.26069678, 0.25549948, 0.26027752, 0.25399254],\n",
       "       [0.25400429, 0.24878286, 0.25897069, 0.25224968],\n",
       "       [0.25223908, 0.24772722, 0.26021506, 0.25257702],\n",
       "       [0.25260341, 0.24722512, 0.25555   , 0.24780293],\n",
       "       [0.24781478, 0.24331617, 0.25302261, 0.24668584],\n",
       "       [0.2466977 , 0.24286306, 0.2546925 , 0.24817068],\n",
       "       [0.24817584, 0.24705455, 0.24245569, 0.25158397],\n",
       "       [0.25160275, 0.25372005, 0.25634047, 0.24850331],\n",
       "       [0.24851514, 0.24270132, 0.25483918, 0.24683179],\n",
       "       [0.24682826, 0.24571637, 0.2562359 , 0.2498408 ],\n",
       "       [0.24985261, 0.24953723, 0.25762837, 0.25429983],\n",
       "       [0.25429013, 0.24998912, 0.25666584, 0.25084271],\n",
       "       [0.25085451, 0.24471703, 0.25627107, 0.24768014],\n",
       "       [0.24768235, 0.24452928, 0.25365347, 0.24640482],\n",
       "       [0.24641669, 0.24304092, 0.24971059, 0.24830808],\n",
       "       [0.24831992, 0.24314743, 0.25700839, 0.2489295 ],\n",
       "       [0.2489404 , 0.24981171, 0.25633637, 0.25461909],\n",
       "       [0.25463083, 0.24838376, 0.25770676, 0.25087815],\n",
       "       [0.25090363, 0.26077993, 0.25896848, 0.26254099],\n",
       "       [0.26253629, 0.26997193, 0.2717972 , 0.27328943],\n",
       "       [0.27330119, 0.26772326, 0.27415646, 0.2658834 ],\n",
       "       [0.26589497, 0.26586381, 0.27100357, 0.27049554],\n",
       "       [0.27050703, 0.27096092, 0.27973974, 0.27388131],\n",
       "       [0.27389291, 0.26862097, 0.27912449, 0.2710495 ],\n",
       "       [0.27106098, 0.26732326, 0.27475499, 0.26892412],\n",
       "       [0.26893564, 0.26510305, 0.27621843, 0.26881345],\n",
       "       [0.26881238, 0.26662457, 0.27175982, 0.26365653],\n",
       "       [0.26366813, 0.26043683, 0.27149486, 0.26452664],\n",
       "       [0.26452734, 0.27426339, 0.27385617, 0.27914813],\n",
       "       [0.27915949, 0.27698084, 0.28804566, 0.28149282],\n",
       "       [0.28150414, 0.2752253 , 0.28497778, 0.27537206],\n",
       "       [0.27538348, 0.27072919, 0.27707246, 0.2704845 ],\n",
       "       [0.27048885, 0.26511643, 0.22631874, 0.23871575],\n",
       "       [0.23869899, 0.23296477, 0.20141818, 0.19792386],\n",
       "       [0.19793446, 0.22704969, 0.20404035, 0.22401064],\n",
       "       [0.22404306, 0.2193812 , 0.21361903, 0.21575969],\n",
       "       [0.2157669 , 0.21061873, 0.21787403, 0.21174597],\n",
       "       [0.21177516, 0.20811095, 0.21152772, 0.20425057],\n",
       "       [0.20429309, 0.21169749, 0.20500162, 0.20875203],\n",
       "       [0.20873744, 0.21085593, 0.216239  , 0.21312138],\n",
       "       [0.21313377, 0.20904882, 0.2138873 , 0.20942506],\n",
       "       [0.20941962, 0.20501799, 0.21439404, 0.20988824],\n",
       "       [0.20990068, 0.20897396, 0.21652793, 0.21001088],\n",
       "       [0.21000746, 0.20610451, 0.21664606, 0.21001445],\n",
       "       [0.21002689, 0.20505344, 0.21075492, 0.20347931],\n",
       "       [0.2034805 , 0.198445  , 0.19965176, 0.19572419],\n",
       "       [0.19573685, 0.19838414, 0.20186971, 0.20265102],\n",
       "       [0.20267942, 0.20433331, 0.21044264, 0.2084979 ],\n",
       "       [0.20851036, 0.20595571, 0.21514019, 0.20843324],\n",
       "       [0.20845503, 0.2037247 , 0.21332268, 0.20723937],\n",
       "       [0.20723957, 0.20427229, 0.21398808, 0.20625129],\n",
       "       [0.20624886, 0.20272049, 0.21424043, 0.20578826],\n",
       "       [0.2058006 , 0.20100177, 0.20784145, 0.20243295],\n",
       "       [0.20243415, 0.2019401 , 0.2094932 , 0.20600198],\n",
       "       [0.20602038, 0.21259519, 0.21467099, 0.21721033],\n",
       "       [0.21725203, 0.21373633, 0.22140086, 0.2143151 ],\n",
       "       [0.21433726, 0.2104153 , 0.22034164, 0.21610832],\n",
       "       [0.21611118, 0.21168197, 0.22145969, 0.21288249],\n",
       "       [0.21289487, 0.21189285, 0.22176739, 0.21630976],\n",
       "       [0.21633686, 0.21526166, 0.22158996, 0.21414382],\n",
       "       [0.21415619, 0.21043478, 0.22221088, 0.21604957],\n",
       "       [0.21606191, 0.21097035, 0.21862223, 0.21212771],\n",
       "       [0.21214011, 0.21335595, 0.2194843 , 0.21815008],\n",
       "       [0.21816238, 0.21428408, 0.22460563, 0.21666508],\n",
       "       [0.21667741, 0.21227141, 0.22513855, 0.21664845],\n",
       "       [0.21666078, 0.21292977, 0.22480735, 0.21598879],\n",
       "       [0.21600114, 0.21248701, 0.22166645, 0.21792827],\n",
       "       [0.2179266 , 0.22402185, 0.2249515 , 0.22670816],\n",
       "       [0.22673775, 0.22992461, 0.23411161, 0.22715037],\n",
       "       [0.2271759 , 0.2218129 , 0.22803279, 0.22020551],\n",
       "       [0.22022742, 0.216897  , 0.21623269, 0.20894881],\n",
       "       [0.20895163, 0.20571516, 0.21706117, 0.21119325],\n",
       "       [0.21122152, 0.20672606, 0.21837367, 0.21059779],\n",
       "       [0.21062249, 0.20600683, 0.21195829, 0.20594524],\n",
       "       [0.20595774, 0.20973883, 0.2141805 , 0.21304351],\n",
       "       [0.21306507, 0.20766545, 0.21931886, 0.21194166],\n",
       "       [0.21195421, 0.20680609, 0.21674573, 0.2118913 ],\n",
       "       [0.21191101, 0.20812403, 0.21944708, 0.21122403],\n",
       "       [0.21123675, 0.20682846, 0.22016453, 0.21211962],\n",
       "       [0.21212596, 0.20664542, 0.21928732, 0.2120573 ],\n",
       "       [0.2120697 , 0.20796245, 0.22039132, 0.21341391],\n",
       "       [0.21342629, 0.20839319, 0.21725862, 0.21010274],\n",
       "       [0.21011051, 0.2055382 , 0.21525501, 0.20763059],\n",
       "       [0.20764322, 0.2037005 , 0.2156269 , 0.2089698 ],\n",
       "       [0.20898225, 0.20389739, 0.21316796, 0.20856583],\n",
       "       [0.20857828, 0.20339133, 0.21532866, 0.20755428],\n",
       "       [0.20755696, 0.20314652, 0.21578619, 0.20870991],\n",
       "       [0.2087289 , 0.20575182, 0.21656988, 0.2095822 ],\n",
       "       [0.20959324, 0.20543489, 0.21746224, 0.2096181 ],\n",
       "       [0.20963785, 0.20868289, 0.21820949, 0.21234096],\n",
       "       [0.21235336, 0.20697802, 0.21979201, 0.21205326],\n",
       "       [0.21206566, 0.20943042, 0.21862491, 0.21389979],\n",
       "       [0.21390688, 0.20853135, 0.22223659, 0.21378974],\n",
       "       [0.21380616, 0.21149954, 0.22228391, 0.21665373],\n",
       "       [0.21666606, 0.21487444, 0.22533822, 0.21743758],\n",
       "       [0.21746202, 0.216399  , 0.22599558, 0.22151611],\n",
       "       [0.22152806, 0.22402185, 0.22866507, 0.22932812],\n",
       "       [0.22934026, 0.2410179 , 0.23775656, 0.24336923],\n",
       "       [0.24338115, 0.25445236, 0.25072186, 0.26020858],\n",
       "       [0.26022023, 0.27359316, 0.26923653, 0.27613896],\n",
       "       [0.2761168 , 0.27043964, 0.27969242, 0.27484235],\n",
       "       [0.27487693, 0.27688042, 0.28064613, 0.27972525],\n",
       "       [0.2797366 , 0.27951874, 0.2842709 , 0.27893503],\n",
       "       [0.27890722, 0.27955754, 0.27742353, 0.2718265 ],\n",
       "       [0.27183798, 0.27258895, 0.28139859, 0.27795239],\n",
       "       [0.27796377, 0.29638455, 0.28458586, 0.30275343],\n",
       "       [0.30274562, 0.30575517, 0.30920079, 0.30456173],\n",
       "       [0.30456958, 0.30129573, 0.30715633, 0.30338557],\n",
       "       [0.30336765, 0.30283688, 0.31043097, 0.30662742],\n",
       "       [0.30665949, 0.30256605, 0.30984632, 0.30221999],\n",
       "       [0.30221622, 0.3125249 , 0.30727667, 0.30887326],\n",
       "       [0.30887607, 0.30439599, 0.31595117, 0.30807605],\n",
       "       [0.30808696, 0.30770577, 0.31098108, 0.30907874],\n",
       "       [0.30908963, 0.30297382, 0.31639986, 0.30827733],\n",
       "       [0.30826959, 0.314713  , 0.31780826, 0.31946377],\n",
       "       [0.31949114, 0.3122781 , 0.31043097, 0.30522387],\n",
       "       [0.30525394, 0.30496702, 0.31381822, 0.30987097],\n",
       "       [0.30988186, 0.31246297, 0.3145352 , 0.31931394],\n",
       "       [0.31930524, 0.31919329, 0.32404606, 0.31552575],\n",
       "       [0.3155426 , 0.3109877 , 0.32154391, 0.31463916],\n",
       "       [0.31464997, 0.30904136, 0.32232207, 0.31300619],\n",
       "       [0.31302977, 0.30669137, 0.31426345, 0.30688326],\n",
       "       [0.30689419, 0.30250595, 0.31245178, 0.30423485],\n",
       "       [0.30424582, 0.30542728, 0.3143073 , 0.31166357],\n",
       "       [0.31170489, 0.30697543, 0.31304668, 0.30735096],\n",
       "       [0.307344  , 0.30027144, 0.29762449, 0.28921748],\n",
       "       [0.28925169, 0.28394197, 0.29388664, 0.2865571 ],\n",
       "       [0.28656835, 0.28345752, 0.29623313, 0.29024644],\n",
       "       [0.29024939, 0.28625225, 0.29670974, 0.28901837],\n",
       "       [0.28901139, 0.28328513, 0.29231059, 0.28886962],\n",
       "       [0.28889109, 0.28973777, 0.29517628, 0.29548901],\n",
       "       [0.29550011, 0.32109519, 0.30329089, 0.32850603],\n",
       "       [0.32849828, 0.33433247, 0.3262853 , 0.31597308],\n",
       "       [0.31598387, 0.33084985, 0.32366912, 0.33232841],\n",
       "       [0.33231206, 0.32865718, 0.34087002, 0.33329178],\n",
       "       [0.33330385, 0.33344998, 0.33712539, 0.32769328],\n",
       "       [0.32771554, 0.3323732 , 0.33157791, 0.33655974],\n",
       "       [0.33659647, 0.33433247, 0.33642781, 0.33049727],\n",
       "       [0.33048467, 0.32255662, 0.32738048, 0.32630138],\n",
       "       [0.32631201, 0.32443631, 0.32790583, 0.32253977],\n",
       "       [0.32255046, 0.31732714, 0.31581206, 0.31080605],\n",
       "       [0.31079749, 0.30343226, 0.31393225, 0.31036742],\n",
       "       [0.3103783 , 0.31059651, 0.3192501 , 0.3165502 ],\n",
       "       [0.31656098, 0.31376129, 0.32000066, 0.31557471],\n",
       "       [0.3155855 , 0.30922729, 0.31864747, 0.3101265 ],\n",
       "       [0.31013738, 0.3153134 , 0.31863264, 0.31770226],\n",
       "       [0.3177253 , 0.31222363, 0.32140638, 0.31515862],\n",
       "       [0.31516942, 0.30735506, 0.30208989, 0.29789043],\n",
       "       [0.2979015 , 0.29112114, 0.3050226 , 0.29776966],\n",
       "       [0.29778073, 0.29495675, 0.3055295 , 0.29907016],\n",
       "       [0.29908121, 0.29404536, 0.30661426, 0.29875556],\n",
       "       [0.29875745, 0.29337163, 0.30139389, 0.29545978],\n",
       "       [0.29548022, 0.28924966, 0.29592117, 0.28780445],\n",
       "       [0.28779904, 0.28237221, 0.27167591, 0.26692651],\n",
       "       [0.2669379 , 0.26004823, 0.26389061, 0.26363865],\n",
       "       [0.26365025, 0.26489779, 0.26729632, 0.26837995],\n",
       "       [0.26839148, 0.28716517, 0.27526993, 0.29233793],\n",
       "       [0.2923637 , 0.32292103, 0.29960981, 0.3252331 ],\n",
       "       [0.32522493, 0.35163024, 0.33371637, 0.33388957],\n",
       "       [0.33390008, 0.3335256 , 0.33246301, 0.32790933],\n",
       "       [0.32791993, 0.33307569, 0.33602816, 0.33899349],\n",
       "       [0.33900392, 0.37247469, 0.34812492, 0.37624044],\n",
       "       [0.3762503 , 0.37198795, 0.37474726, 0.36866096],\n",
       "       [0.36867093, 0.3821099 , 0.37867784, 0.38522037],\n",
       "       [0.38523008, 0.38335603, 0.38336593, 0.38124349],\n",
       "       [0.38125326, 0.38284708, 0.3861832 , 0.3872814 ],\n",
       "       [0.38732745, 0.38938203, 0.37512262, 0.37399974],\n",
       "       [0.37400962, 0.38758587, 0.38305886, 0.39023368],\n",
       "       [0.39024347, 0.3818695 , 0.38140285, 0.37716278],\n",
       "       [0.37717246, 0.3729386 , 0.38386462, 0.37729458],\n",
       "       [0.37730457, 0.37913227, 0.38799156, 0.38514546],\n",
       "       [0.38515517, 0.37653746, 0.37364546, 0.37204036],\n",
       "       [0.37205012, 0.3688711 , 0.37559545, 0.37415672],\n",
       "       [0.37416645, 0.38606435, 0.38518959, 0.39106042],\n",
       "       [0.39107004, 0.39419964, 0.39222211, 0.38608551],\n",
       "       [0.38609521, 0.38616614, 0.38947329, 0.39287525],\n",
       "       [0.39288484, 0.38864653, 0.40064837, 0.39267893],\n",
       "       [0.39268868, 0.38423851, 0.39491005, 0.38831347],\n",
       "       [0.38832313, 0.38379712, 0.38456094, 0.38253342],\n",
       "       [0.38254317, 0.3829367 , 0.39185606, 0.38821399],\n",
       "       [0.38822366, 0.38796625, 0.3941005 , 0.38828456],\n",
       "       [0.38829422, 0.37894437, 0.3926164 , 0.38508484]])"
      ]
     },
     "execution_count": 14,
     "metadata": {},
     "output_type": "execute_result"
    }
   ],
   "source": [
    "y_test"
   ]
  },
  {
   "cell_type": "code",
   "execution_count": 15,
   "id": "2ef25548",
   "metadata": {},
   "outputs": [],
   "source": [
    "model = Sequential()\n",
    "model.add(LSTM(units=128, return_sequences=True, input_shape=(X_train.shape[1], X_train.shape[2])))\n",
    "model.add(LSTM(128, return_sequences=True))\n",
    "model.add(LSTM(64))\n",
    "model.add(Dense(1))\n",
    "model.compile(loss='mean_squared_error', optimizer='Adam')"
   ]
  },
  {
   "cell_type": "code",
   "execution_count": 16,
   "id": "a648f8d1",
   "metadata": {},
   "outputs": [
    {
     "name": "stdout",
     "output_type": "stream",
     "text": [
      "Epoch 1/15\n",
      "58/58 [==============================] - 2s 4ms/step - loss: 0.0444\n",
      "Epoch 2/15\n",
      "58/58 [==============================] - 0s 4ms/step - loss: 7.7746e-04\n",
      "Epoch 3/15\n",
      "58/58 [==============================] - 0s 3ms/step - loss: 3.9386e-04\n",
      "Epoch 4/15\n",
      "58/58 [==============================] - 0s 3ms/step - loss: 2.5588e-04\n",
      "Epoch 5/15\n",
      "58/58 [==============================] - 0s 3ms/step - loss: 2.2399e-04\n",
      "Epoch 6/15\n",
      "58/58 [==============================] - 0s 3ms/step - loss: 2.2156e-04\n",
      "Epoch 7/15\n",
      "58/58 [==============================] - 0s 3ms/step - loss: 2.1838e-04\n",
      "Epoch 8/15\n",
      "58/58 [==============================] - 0s 3ms/step - loss: 2.2193e-04\n",
      "Epoch 9/15\n",
      "58/58 [==============================] - 0s 3ms/step - loss: 2.2381e-04\n",
      "Epoch 10/15\n",
      "58/58 [==============================] - 0s 3ms/step - loss: 2.1348e-04\n",
      "Epoch 11/15\n",
      "58/58 [==============================] - 0s 3ms/step - loss: 2.1446e-04\n",
      "Epoch 12/15\n",
      "58/58 [==============================] - 0s 3ms/step - loss: 2.1568e-04\n",
      "Epoch 13/15\n",
      "58/58 [==============================] - 0s 3ms/step - loss: 2.1480e-04\n",
      "Epoch 14/15\n",
      "58/58 [==============================] - 0s 3ms/step - loss: 2.1325e-04\n",
      "Epoch 15/15\n",
      "58/58 [==============================] - 0s 3ms/step - loss: 2.0919e-04\n"
     ]
    },
    {
     "data": {
      "text/plain": [
       "<keras.callbacks.History at 0x7f78281e8b50>"
      ]
     },
     "execution_count": 16,
     "metadata": {},
     "output_type": "execute_result"
    }
   ],
   "source": [
    "model.fit(X_train, y_train, epochs=15, batch_size=32, verbose=1)"
   ]
  },
  {
   "cell_type": "code",
   "execution_count": 17,
   "id": "32c87eef",
   "metadata": {},
   "outputs": [
    {
     "name": "stdout",
     "output_type": "stream",
     "text": [
      "Test loss: 6.661896622972563e-05\n"
     ]
    }
   ],
   "source": [
    "test_loss = model.evaluate(X_test, y_test, verbose=0)\n",
    "print('Test loss:', test_loss)"
   ]
  },
  {
   "cell_type": "code",
   "execution_count": 18,
   "id": "99dc4370",
   "metadata": {},
   "outputs": [
    {
     "name": "stdout",
     "output_type": "stream",
     "text": [
      "7/7 [==============================] - 1s 1ms/step\n"
     ]
    }
   ],
   "source": [
    "y_pred = model.predict(X_test)"
   ]
  },
  {
   "cell_type": "code",
   "execution_count": 19,
   "id": "824cb49b",
   "metadata": {},
   "outputs": [
    {
     "data": {
      "image/png": "[encoded data removed]",
      "text/plain": [
       "<Figure size 1000x600 with 1 Axes>"
      ]
     },
     "metadata": {},
     "output_type": "display_data"
    }
   ],
   "source": [
    "import matplotlib.pyplot as plt\n",
    "plt.figure(figsize=(10,6))\n",
    "plt.plot(y_test[:, 3], label='actual')\n",
    "plt.plot(y_pred[:, 0], label='predicted')\n",
    "plt.legend()\n",
    "plt.show()"
   ]
  },
  {
   "cell_type": "code",
   "execution_count": null,
   "id": "5f4fa38e",
   "metadata": {},
   "outputs": [],
   "source": []
  }
 ],
 "metadata": {
  "kernelspec": {
   "display_name": "Python 3 (ipykernel)",
   "language": "python",
   "name": "python3"
  },
  "language_info": {
   "codemirror_mode": {
    "name": "ipython",
    "version": 3
   },
   "file_extension": ".py",
   "mimetype": "text/x-python",
   "name": "python",
   "nbconvert_exporter": "python",
   "pygments_lexer": "ipython3",
   "version": "3.10.9"
  }
 },
 "nbformat": 4,
 "nbformat_minor": 5
}
