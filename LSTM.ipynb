{
 "cells": [
  {
   "cell_type": "code",
   "execution_count": null,
   "id": "3e6f8342",
   "metadata": {},
   "outputs": [],
   "source": [
    "import pandas as pd\n",
    "import seaborn as sns\n",
    "import numpy as np\n",
    "from sklearn.preprocessing import StandardScaler \n",
    "from sklearn.model_selection import train_test_split \n",
    "from sklearn.preprocessing import MinMaxScaler\n",
    "from tensorflow.keras.models import Sequential\n",
    "from tensorflow.keras.layers import LSTM, Dense"
   ]
  },
  {
   "cell_type": "code",
   "execution_count": null,
   "id": "7c666470",
   "metadata": {},
   "outputs": [],
   "source": [
    "btc = pd.read_csv('btc_prediction_datawranglingStage.csv')"
   ]
  },
  {
   "cell_type": "code",
   "execution_count": null,
   "id": "03c7bd1b",
   "metadata": {
    "scrolled": true
   },
   "outputs": [],
   "source": [
    "btc.info()"
   ]
  },
  {
   "cell_type": "code",
   "execution_count": null,
   "id": "b2bda51f",
   "metadata": {},
   "outputs": [],
   "source": [
    "target = btc['close'].values"
   ]
  },
  {
   "cell_type": "code",
   "execution_count": null,
   "id": "6eb9686f",
   "metadata": {},
   "outputs": [],
   "source": [
    "btc_features = btc.drop('Date', axis=1)"
   ]
  },
  {
   "cell_type": "code",
   "execution_count": null,
   "id": "74f028e1",
   "metadata": {},
   "outputs": [],
   "source": [
    "scaler = MinMaxScaler(feature_range=(0, 1))\n",
    "btc_scaled = scaler.fit_transform(btc_features)"
   ]
  },
  {
   "cell_type": "code",
   "execution_count": null,
   "id": "21a416ee",
   "metadata": {},
   "outputs": [],
   "source": [
    "btc_scaled_df = pd.DataFrame(btc_scaled, columns=btc_features.columns)\n",
    "btc_scaled_df['Date'] = btc['Date']\n",
    "btc_scaled_df.set_index('Date', inplace=True)\n",
    "print(btc_scaled_df.head())"
   ]
  },
  {
   "cell_type": "code",
   "execution_count": null,
   "id": "08ca314a",
   "metadata": {},
   "outputs": [],
   "source": [
    "seq_len = 1\n",
    "train_size = int(len(btc_scaled_df) * 0.9)\n",
    "train_data = btc_scaled_df.iloc[:train_size]\n",
    "test_data = btc_scaled_df.iloc[train_size:]"
   ]
  },
  {
   "cell_type": "code",
   "execution_count": null,
   "id": "e28d5761",
   "metadata": {},
   "outputs": [],
   "source": [
    "def create_sequences(data, seq_len):\n",
    "    if len(data) < seq_len:\n",
    "        raise ValueError(\"Length of data is less than sequence length\")\n",
    "    X = []\n",
    "    y = []\n",
    "    for i in range(seq_len, len(data)):\n",
    "        X.append(data.iloc[i-seq_len:i].values)\n",
    "        y.append(data.iloc[i].values)\n",
    "    X = np.array(X)\n",
    "    y = np.array(y)\n",
    "    return X, y"
   ]
  },
  {
   "cell_type": "code",
   "execution_count": null,
   "id": "c90c8fd1",
   "metadata": {},
   "outputs": [],
   "source": [
    "input_cols = ['open', 'high', 'low', 'close',]\n",
    "X_train, y_train = create_sequences(train_data[input_cols], seq_len)\n",
    "X_test, y_test = create_sequences(test_data[input_cols], seq_len)"
   ]
  },
  {
   "cell_type": "code",
   "execution_count": null,
   "id": "8b2f4023",
   "metadata": {},
   "outputs": [],
   "source": [
    "X_train"
   ]
  },
  {
   "cell_type": "code",
   "execution_count": null,
   "id": "538d4552",
   "metadata": {},
   "outputs": [],
   "source": [
    "X_train.shape"
   ]
  },
  {
   "cell_type": "code",
   "execution_count": null,
   "id": "2fee9737",
   "metadata": {},
   "outputs": [],
   "source": [
    "y_train.shape"
   ]
  },
  {
   "cell_type": "code",
   "execution_count": null,
   "id": "16821470",
   "metadata": {},
   "outputs": [],
   "source": [
    "y_test"
   ]
  },
  {
   "cell_type": "code",
   "execution_count": null,
   "id": "2ef25548",
   "metadata": {},
   "outputs": [],
   "source": [
    "model = Sequential()\n",
    "model.add(LSTM(units=128, return_sequences=True, input_shape=(X_train.shape[1], X_train.shape[2])))\n",
    "model.add(LSTM(128, return_sequences=True))\n",
    "model.add(LSTM(64))\n",
    "model.add(Dense(1))\n",
    "model.compile(loss='mean_squared_error', optimizer='Adam')"
   ]
  },
  {
   "cell_type": "code",
   "execution_count": null,
   "id": "a648f8d1",
   "metadata": {},
   "outputs": [],
   "source": [
    "model.fit(X_train, y_train, epochs=15, batch_size=32, verbose=1)"
   ]
  },
  {
   "cell_type": "code",
   "execution_count": null,
   "id": "32c87eef",
   "metadata": {},
   "outputs": [],
   "source": [
    "test_loss = model.evaluate(X_test, y_test, verbose=0)\n",
    "print('Test loss:', test_loss)"
   ]
  },
  {
   "cell_type": "code",
   "execution_count": null,
   "id": "99dc4370",
   "metadata": {},
   "outputs": [],
   "source": [
    "y_pred = model.predict(X_test)"
   ]
  },
  {
   "cell_type": "code",
   "execution_count": null,
   "id": "824cb49b",
   "metadata": {},
   "outputs": [],
   "source": [
    "import matplotlib.pyplot as plt\n",
    "plt.figure(figsize=(10,6))\n",
    "plt.plot(y_test[:, 3], label='actual')\n",
    "plt.plot(y_pred[:, 0], label='predicted')\n",
    "plt.legend()\n",
    "plt.show()"
   ]
  },
  {
   "cell_type": "code",
   "execution_count": null,
   "id": "5f4fa38e",
   "metadata": {},
   "outputs": [],
   "source": []
  }
 ],
 "metadata": {
  "kernelspec": {
   "display_name": "Python 3 (ipykernel)",
   "language": "python",
   "name": "python3"
  },
  "language_info": {
   "codemirror_mode": {
    "name": "ipython",
    "version": 3
   },
   "file_extension": ".py",
   "mimetype": "text/x-python",
   "name": "python",
   "nbconvert_exporter": "python",
   "pygments_lexer": "ipython3",
   "version": "3.10.9"
  }
 },
 "nbformat": 4,
 "nbformat_minor": 5
}
